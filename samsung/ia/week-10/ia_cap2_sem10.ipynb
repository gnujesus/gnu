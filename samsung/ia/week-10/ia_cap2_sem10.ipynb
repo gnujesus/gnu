{
  "cells": [
    {
      "cell_type": "markdown",
      "source": [
        "# 2 Matemáticas básicas para la ciencia de datos\n"
      ],
      "metadata": {
        "id": "yBsYsMMzJGxf"
      },
      "id": "yBsYsMMzJGxf"
    },
    {
      "cell_type": "markdown",
      "source": [
        "**Matemáticas**: Ciencia que estudia las relaciones entre cantidades, magnitudes y propiedades, y las operaciones lógicas mediante las cuales se pueden deducir cantidades, magnitudes y propiedades desconocidas.\n",
        "\n",
        "**Ramas de las matemática:**\n",
        "\n",
        "* Teoría de conjuntos: Estudio de las propiedades de los conjuntos y las operaciones entre ellos.\n",
        "\n",
        "-Colecciones abstractas de objetos.\n",
        "\n",
        "-Cada conjunto es un objeto, por lo tanto puede formar parte de otro conjunto más amplio.\n",
        "* Aritmética: Estudio de los números y de las operaciones elementales entre ellos.\n",
        "* Álgebra: Estudio de las estructuras que permiten generalizar las solución de problemas, a través del uso de incógnitas (variables) representadas por letras.\n",
        "\n",
        "-Originalmente generalización y extensión de la aritmética.\n",
        "\n",
        "-Las ecuaciones suelen representar una relación clara e invariable entre ciertas cantidades expresadas en letras con símbolos algebraicos.\n",
        "* Análisis matemático: Estudio de los números reales, complejos y construcciones derivadas a partir de ellos. Algunas de sus áreas son las funciones, límites, el cálculo de derivadas, las integrales y las series infinitas.\n",
        "\n",
        "-A diferencia del álgebra, este se centra en cantidades finitas.\n",
        "* Geometría: Estudio de las propiedades de las figuras en el plano o el espacio.\n",
        "* Lógica matemática: Estudio matemático de la lógica. Incluye las partes de la lógica que pueden ser modeladas y estudiadas matemáticamente.\n",
        "* Probabilidad: Estudia, mide y propone modelos para los fenómenos aleatorios.\n",
        "\n",
        "-Sirve para predecir con mayor certeza y estudiar las\n",
        "* Estadística: Permite analizar los datos provenientes de una muestra representativa.\n",
        "\n",
        "- El análisis de esos datos permite explicar las correlaciones y dependencias de un fenómeno que ocurre de forma aleatoria o condicional.\n",
        "* Matemáticas aplicadas: Métodos y herramientas matemáticos que pueden ser usados en el análisis o resolución de problemas. (probs de fisica, quimica, ingenieria, …)\n"
      ],
      "metadata": {
        "id": "IM-_CHlYdUb2"
      },
      "id": "IM-_CHlYdUb2"
    },
    {
      "cell_type": "markdown",
      "source": [
        "## 2.1 Álgebra"
      ],
      "metadata": {
        "id": "uDfG3PDvk7w9"
      },
      "id": "uDfG3PDvk7w9"
    },
    {
      "cell_type": "markdown",
      "source": [
        "#### **Ecuación**\n",
        "7 = 7\n",
        "x = 9\n",
        "y + 9 = 14\n",
        "5xy = 8xy^2 + 4\n",
        "\n",
        "#### **Ecuación Polinomial**\n",
        "\n",
        "(x-2)^3 = x^3 - 6x^2 + 12x -8\n",
        "\n",
        "##### Coéficiente y grado de la ecuación:\n",
        "\n",
        "![image.png](data:image/png;base64,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)"
      ],
      "metadata": {
        "id": "J9uVdxk5laMt"
      },
      "id": "J9uVdxk5laMt"
    },
    {
      "cell_type": "markdown",
      "id": "f0aa621d",
      "metadata": {
        "id": "f0aa621d"
      },
      "source": [
        "## 2.2 Secuencia\n",
        "Pág. 31."
      ]
    },
    {
      "cell_type": "code",
      "execution_count": 1,
      "id": "8f3eff08",
      "metadata": {
        "id": "8f3eff08",
        "colab": {
          "base_uri": "https://localhost:8080/"
        },
        "outputId": "7ac9d99d-4ac9-47d0-feb9-663b13e9e131"
      },
      "outputs": [
        {
          "output_type": "stream",
          "name": "stdout",
          "text": [
            "S10 =  185\n"
          ]
        }
      ],
      "source": [
        "# Una sucesión es un grupo ordenado de números que siguen un patrón matemático. Una serie es la suma de algunos términos de la sucesión.\n",
        "# Encuentre la Sn para la secuencia aritmética {an}, y luego resuelva S10.\n",
        "\n",
        "N = 10\n",
        "a = 5\n",
        "d = 3\n",
        "\n",
        "sum1 = 0\n",
        "for n in range(1, N+1):\n",
        "    sum1 = sum1 + (a+(n-1)*d)\n",
        "print(\"S10 = \", sum1)"
      ]
    },
    {
      "cell_type": "markdown",
      "source": [
        "Pág. 36\n",
        "\n",
        "![image.png](data:image/png;base64,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)\n"
      ],
      "metadata": {
        "id": "EhtCBQIChYfl"
      },
      "id": "EhtCBQIChYfl"
    },
    {
      "cell_type": "code",
      "source": [
        "N = 10\n",
        "\n",
        "sum1 = 0\n",
        "for k in range(1, N+1):\n",
        "    sum1 = sum1 + (k**2-k)\n",
        "print(\"S10 = \", sum1)"
      ],
      "metadata": {
        "id": "LypVUhzRjFaW",
        "colab": {
          "base_uri": "https://localhost:8080/"
        },
        "outputId": "7074d902-e149-47b4-9479-ee0e2d90f05b"
      },
      "id": "LypVUhzRjFaW",
      "execution_count": 2,
      "outputs": [
        {
          "output_type": "stream",
          "name": "stdout",
          "text": [
            "S10 =  330\n"
          ]
        }
      ]
    },
    {
      "cell_type": "markdown",
      "source": [
        "## 2.3 Valor absoluto y distancia euclidiana"
      ],
      "metadata": {
        "id": "ypCQchUommKH"
      },
      "id": "ypCQchUommKH"
    },
    {
      "cell_type": "code",
      "source": [
        "# Valor absoluto\n",
        "\n",
        "abs(-5)\n",
        "\n",
        "# Distancia euclidiana -> https://www.delftstack.com/es/howto/numpy/calculate-euclidean-distance/\n",
        "# Método 1 - Numpy / norm() -> norma vectorial de un array\n",
        "\n",
        "import numpy as np\n",
        "\n",
        "a = np.array((1, 2, 3))\n",
        "b = np.array((4, 5, 6))\n",
        "\n",
        "dist = np.linalg.norm(a - b)\n",
        "\n",
        "print(dist)"
      ],
      "metadata": {
        "id": "Fak2bdRkmtLE",
        "colab": {
          "base_uri": "https://localhost:8080/"
        },
        "outputId": "56554623-8ab8-4c31-9303-3b8b28db01f0"
      },
      "id": "Fak2bdRkmtLE",
      "execution_count": 3,
      "outputs": [
        {
          "output_type": "stream",
          "name": "stdout",
          "text": [
            "5.196152422706632\n"
          ]
        }
      ]
    },
    {
      "cell_type": "code",
      "source": [
        "# Distancia euclidiana\n",
        "# Método 2 - Numpy / numpy.sum() y numpy.square() -> Suma y cuadrado de los elementos\n",
        "\n",
        "import numpy as np\n",
        "\n",
        "a = np.array((1, 2, 3))\n",
        "b = np.array((4, 5, 6))\n",
        "\n",
        "dist = np.sqrt(np.sum(np.square(a - b)))\n",
        "\n",
        "print(dist)"
      ],
      "metadata": {
        "id": "Z8qbH0dUnvPf",
        "colab": {
          "base_uri": "https://localhost:8080/"
        },
        "outputId": "223002e8-4498-4935-cb8c-506c043d6d50"
      },
      "id": "Z8qbH0dUnvPf",
      "execution_count": 4,
      "outputs": [
        {
          "output_type": "stream",
          "name": "stdout",
          "text": [
            "5.196152422706632\n"
          ]
        }
      ]
    },
    {
      "cell_type": "code",
      "source": [
        "# Distancia euclidiana\n",
        "# Método 3 - Numpy / .dot() -> producto escalar de la diferencia de puntos y su transposición, devuelve la suma de cuadrados\n",
        "\n",
        "import numpy as np\n",
        "\n",
        "a = np.array((1, 2, 3))\n",
        "b = np.array((4, 5, 6))\n",
        "\n",
        "temp = a - b\n",
        "dist = np.sqrt(np.dot(temp.T, temp))\n",
        "\n",
        "print(dist)"
      ],
      "metadata": {
        "id": "saBfPkz0oUx9",
        "colab": {
          "base_uri": "https://localhost:8080/"
        },
        "outputId": "ff94988e-4c6e-426a-f126-c7d427823ff7"
      },
      "id": "saBfPkz0oUx9",
      "execution_count": 5,
      "outputs": [
        {
          "output_type": "stream",
          "name": "stdout",
          "text": [
            "5.196152422706632\n"
          ]
        }
      ]
    },
    {
      "cell_type": "code",
      "source": [
        "# Distancia euclidiana\n",
        "# Método 4 - Numpy / biblioteca scipy\n",
        "\n",
        "from scipy.spatial import distance\n",
        "\n",
        "a = (1, 2, 3)\n",
        "b = (4, 5, 6)\n",
        "\n",
        "print(distance.euclidean(a, b))"
      ],
      "metadata": {
        "id": "w11x-8erou_M",
        "colab": {
          "base_uri": "https://localhost:8080/"
        },
        "outputId": "dc36986c-0c30-4770-986a-d8bd9699cc69"
      },
      "id": "w11x-8erou_M",
      "execution_count": 6,
      "outputs": [
        {
          "output_type": "stream",
          "name": "stdout",
          "text": [
            "5.196152422706632\n"
          ]
        }
      ]
    },
    {
      "cell_type": "code",
      "source": [
        "# Distancia euclidiana\n",
        "# Método 5 - Numpy / biblioteca math\n",
        "\n",
        "from math import dist\n",
        "\n",
        "a = (1, 2, 3)\n",
        "b = (4, 5, 6)\n",
        "\n",
        "print(dist(a, b))"
      ],
      "metadata": {
        "id": "0onC2QA6pE_S",
        "colab": {
          "base_uri": "https://localhost:8080/"
        },
        "outputId": "0d55eaa6-4f1d-458a-8d68-783d851947f9"
      },
      "id": "0onC2QA6pE_S",
      "execution_count": 7,
      "outputs": [
        {
          "output_type": "stream",
          "name": "stdout",
          "text": [
            "5.196152422706632\n"
          ]
        }
      ]
    },
    {
      "cell_type": "markdown",
      "source": [
        "## 2.4 Conjuntos"
      ],
      "metadata": {
        "id": "9qiHfIdGpm5H"
      },
      "id": "9qiHfIdGpm5H"
    },
    {
      "cell_type": "code",
      "source": [
        "# Creación de conjuntos -> https://recursospython.com/guias-y-manuales/conjuntos-sets/\n",
        "\n",
        "s1 = {}\n",
        "print(type(s1))\n",
        "\n",
        "s2 = set()\n",
        "print(type(s2))\n",
        "\n",
        "s1 = {1, 2, 3, 4}\n",
        "\n",
        "s2 = {True, 3.14, None, False, \"Hola mundo\", (1, 2)}\n",
        "\n",
        "s1, s2"
      ],
      "metadata": {
        "id": "QvRb4e6Rpryh",
        "colab": {
          "base_uri": "https://localhost:8080/"
        },
        "outputId": "64bd8cb4-3312-4b98-a9e5-34adc4bef7b7"
      },
      "id": "QvRb4e6Rpryh",
      "execution_count": 8,
      "outputs": [
        {
          "output_type": "stream",
          "name": "stdout",
          "text": [
            "<class 'dict'>\n",
            "<class 'set'>\n"
          ]
        },
        {
          "output_type": "execute_result",
          "data": {
            "text/plain": [
              "({1, 2, 3, 4}, {(1, 2), 3.14, False, 'Hola mundo', None, True})"
            ]
          },
          "metadata": {},
          "execution_count": 8
        }
      ]
    },
    {
      "cell_type": "code",
      "source": [
        "## s = {[1, 2]} # TypeError elementos muteables"
      ],
      "metadata": {
        "id": "aOHGNw2TtfP5"
      },
      "id": "aOHGNw2TtfP5",
      "execution_count": 9,
      "outputs": []
    },
    {
      "cell_type": "code",
      "source": [
        "s1 = set([1, 2, 3, 4])\n",
        "s2 = set(range(10))\n",
        "\n",
        "s1, s2"
      ],
      "metadata": {
        "id": "TQ_AzhoIuHZ4",
        "colab": {
          "base_uri": "https://localhost:8080/"
        },
        "outputId": "785f397b-a48e-45cb-99d4-bd9a4a64d402"
      },
      "id": "TQ_AzhoIuHZ4",
      "execution_count": 10,
      "outputs": [
        {
          "output_type": "execute_result",
          "data": {
            "text/plain": [
              "({1, 2, 3, 4}, {0, 1, 2, 3, 4, 5, 6, 7, 8, 9})"
            ]
          },
          "metadata": {},
          "execution_count": 10
        }
      ]
    },
    {
      "cell_type": "code",
      "source": [
        "list({1, 2, 3, 4})"
      ],
      "metadata": {
        "id": "yuCAvo8buPXY",
        "colab": {
          "base_uri": "https://localhost:8080/"
        },
        "outputId": "e153306b-e803-4e21-8ab0-f4fd6ec21fc7"
      },
      "id": "yuCAvo8buPXY",
      "execution_count": 11,
      "outputs": [
        {
          "output_type": "execute_result",
          "data": {
            "text/plain": [
              "[1, 2, 3, 4]"
            ]
          },
          "metadata": {},
          "execution_count": 11
        }
      ]
    },
    {
      "cell_type": "code",
      "source": [
        "set([1, 2, 2, 3, 4])"
      ],
      "metadata": {
        "id": "O4Y5oGqXuSqA",
        "colab": {
          "base_uri": "https://localhost:8080/"
        },
        "outputId": "375992ef-09c0-4736-fa8f-8cb5c6ba141d"
      },
      "id": "O4Y5oGqXuSqA",
      "execution_count": 12,
      "outputs": [
        {
          "output_type": "execute_result",
          "data": {
            "text/plain": [
              "{1, 2, 3, 4}"
            ]
          },
          "metadata": {},
          "execution_count": 12
        }
      ]
    },
    {
      "cell_type": "code",
      "source": [
        "# Elementos\n",
        "\n",
        "s = {1, 2, 3, 4}\n",
        "s.add(5)\n",
        "s.discard(2)\n",
        "print(s)\n",
        "\n",
        "s.clear()\n",
        "s"
      ],
      "metadata": {
        "id": "c4VBaPb9uwRr",
        "colab": {
          "base_uri": "https://localhost:8080/"
        },
        "outputId": "470b2960-0b9b-4961-cd6c-6fbc65240740"
      },
      "id": "c4VBaPb9uwRr",
      "execution_count": 13,
      "outputs": [
        {
          "output_type": "stream",
          "name": "stdout",
          "text": [
            "{1, 3, 4, 5}\n"
          ]
        },
        {
          "output_type": "execute_result",
          "data": {
            "text/plain": [
              "set()"
            ]
          },
          "metadata": {},
          "execution_count": 13
        }
      ]
    },
    {
      "cell_type": "code",
      "source": [
        "2 in {1, 2, 3}"
      ],
      "metadata": {
        "id": "prXDu47mvMoo",
        "colab": {
          "base_uri": "https://localhost:8080/"
        },
        "outputId": "68af6bbe-de29-4fee-aa16-88f4adc2c1b2"
      },
      "id": "prXDu47mvMoo",
      "execution_count": 14,
      "outputs": [
        {
          "output_type": "execute_result",
          "data": {
            "text/plain": [
              "True"
            ]
          },
          "metadata": {},
          "execution_count": 14
        }
      ]
    },
    {
      "cell_type": "code",
      "source": [
        "{1, 2, 3} == {3, 2, 1}"
      ],
      "metadata": {
        "id": "usYakDcnyYpq",
        "colab": {
          "base_uri": "https://localhost:8080/"
        },
        "outputId": "c0dbc45d-ede0-4cad-c488-9420c51880aa"
      },
      "id": "usYakDcnyYpq",
      "execution_count": 15,
      "outputs": [
        {
          "output_type": "execute_result",
          "data": {
            "text/plain": [
              "True"
            ]
          },
          "metadata": {},
          "execution_count": 15
        }
      ]
    },
    {
      "cell_type": "code",
      "source": [
        "s = {1, 2, 3, 4}\n",
        "len (s)"
      ],
      "metadata": {
        "id": "Xl0AiKI5v7-d",
        "colab": {
          "base_uri": "https://localhost:8080/"
        },
        "outputId": "f2c11192-f609-4247-833e-11fe81679738"
      },
      "id": "Xl0AiKI5v7-d",
      "execution_count": 16,
      "outputs": [
        {
          "output_type": "execute_result",
          "data": {
            "text/plain": [
              "4"
            ]
          },
          "metadata": {},
          "execution_count": 16
        }
      ]
    },
    {
      "cell_type": "code",
      "source": [
        "# retorna un elemento en forma aleatoria, ya que los elementos no están ordenados\n",
        "\n",
        "s = {1, 2, 3, 4}\n",
        "\n",
        "while s:\n",
        "    print(s.pop())"
      ],
      "metadata": {
        "id": "60X6tchyvf7w",
        "colab": {
          "base_uri": "https://localhost:8080/"
        },
        "outputId": "1541bef0-943c-4aaf-bf48-b308565c4969"
      },
      "id": "60X6tchyvf7w",
      "execution_count": 17,
      "outputs": [
        {
          "output_type": "stream",
          "name": "stdout",
          "text": [
            "1\n",
            "2\n",
            "3\n",
            "4\n"
          ]
        }
      ]
    },
    {
      "cell_type": "markdown",
      "source": [
        "![image.png](data:image/png;base64,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)"
      ],
      "metadata": {
        "id": "CDNTSooSxAut"
      },
      "id": "CDNTSooSxAut"
    },
    {
      "cell_type": "code",
      "source": [
        "# Operaciones principales\n",
        "\n",
        "# Unión\n",
        "a = {1, 2, 3, 4}\n",
        "b = {3, 4, 5, 6}\n",
        "a | b"
      ],
      "metadata": {
        "colab": {
          "base_uri": "https://localhost:8080/"
        },
        "id": "k97p3O6Bw4AV",
        "outputId": "95f8df8d-10ad-4a3d-ddec-f8ed9a10bcf4"
      },
      "id": "k97p3O6Bw4AV",
      "execution_count": 18,
      "outputs": [
        {
          "output_type": "execute_result",
          "data": {
            "text/plain": [
              "{1, 2, 3, 4, 5, 6}"
            ]
          },
          "metadata": {},
          "execution_count": 18
        }
      ]
    },
    {
      "cell_type": "code",
      "source": [
        "# Intersección\n",
        "a & b"
      ],
      "metadata": {
        "colab": {
          "base_uri": "https://localhost:8080/"
        },
        "id": "kjub9CiCx-Zj",
        "outputId": "ee52bcfc-c049-4565-feb3-ae29efb0f552"
      },
      "id": "kjub9CiCx-Zj",
      "execution_count": 19,
      "outputs": [
        {
          "output_type": "execute_result",
          "data": {
            "text/plain": [
              "{3, 4}"
            ]
          },
          "metadata": {},
          "execution_count": 19
        }
      ]
    },
    {
      "cell_type": "code",
      "source": [
        "# Diferencia\n",
        "a = {1, 2, 3, 4}\n",
        "b = {2, 3}\n",
        "a - b"
      ],
      "metadata": {
        "id": "8KgAw7zwyFaE",
        "colab": {
          "base_uri": "https://localhost:8080/"
        },
        "outputId": "630a168f-a6f3-499a-8f1e-9936ae8051fc"
      },
      "id": "8KgAw7zwyFaE",
      "execution_count": 20,
      "outputs": [
        {
          "output_type": "execute_result",
          "data": {
            "text/plain": [
              "{1, 4}"
            ]
          },
          "metadata": {},
          "execution_count": 20
        }
      ]
    },
    {
      "cell_type": "code",
      "source": [
        "# B es un subconjunto de A\n",
        "a = {1, 2, 3, 4}\n",
        "b = {2, 3}\n",
        "b.issubset(a)"
      ],
      "metadata": {
        "id": "Mq9sqH2Qygnz",
        "colab": {
          "base_uri": "https://localhost:8080/"
        },
        "outputId": "a4a275c0-caff-463f-f8e1-31ec13d139d5"
      },
      "id": "Mq9sqH2Qygnz",
      "execution_count": 21,
      "outputs": [
        {
          "output_type": "execute_result",
          "data": {
            "text/plain": [
              "True"
            ]
          },
          "metadata": {},
          "execution_count": 21
        }
      ]
    },
    {
      "cell_type": "code",
      "source": [
        "# A es un superconjunto de B.\n",
        "a.issuperset(b)"
      ],
      "metadata": {
        "id": "rmR0GCaczB9s",
        "colab": {
          "base_uri": "https://localhost:8080/"
        },
        "outputId": "236cd1a5-32bd-4411-920c-e33f7eca09fc"
      },
      "id": "rmR0GCaczB9s",
      "execution_count": 22,
      "outputs": [
        {
          "output_type": "execute_result",
          "data": {
            "text/plain": [
              "True"
            ]
          },
          "metadata": {},
          "execution_count": 22
        }
      ]
    },
    {
      "cell_type": "code",
      "source": [
        "# Unión exclusiva, elementos no repetidos\n",
        "a = {1, 2, 3, 4}\n",
        "b = {3, 4, 5, 6}\n",
        "a.symmetric_difference(b)"
      ],
      "metadata": {
        "id": "I_ozCzoUzIbi",
        "colab": {
          "base_uri": "https://localhost:8080/"
        },
        "outputId": "d58b1497-2151-4456-eb6a-0048aedd6a35"
      },
      "id": "I_ozCzoUzIbi",
      "execution_count": 23,
      "outputs": [
        {
          "output_type": "execute_result",
          "data": {
            "text/plain": [
              "{1, 2, 5, 6}"
            ]
          },
          "metadata": {},
          "execution_count": 23
        }
      ]
    },
    {
      "cell_type": "code",
      "source": [
        "# Conjunto disconexo (intersección = conjunto vacío), si no comparten elementos entre sí.\n",
        "a = {1, 2, 3}\n",
        "b = {3, 4, 5}\n",
        "c = {5, 6, 7}\n",
        "a.isdisjoint(b)"
      ],
      "metadata": {
        "id": "WD4_dkNOzf60",
        "colab": {
          "base_uri": "https://localhost:8080/"
        },
        "outputId": "8c5208bc-a7dd-4973-82d4-1cee7869af9e"
      },
      "id": "WD4_dkNOzf60",
      "execution_count": 24,
      "outputs": [
        {
          "output_type": "execute_result",
          "data": {
            "text/plain": [
              "False"
            ]
          },
          "metadata": {},
          "execution_count": 24
        }
      ]
    },
    {
      "cell_type": "code",
      "source": [
        "# Conjuntos inmutables, \"frozenset\" es una implementación similar a set pero inmutable... No add(), discard(), etc.\n",
        "\n",
        "a = frozenset({1, 2, 3})\n",
        "b = frozenset({3, 4, 5})\n",
        "print(a & b)\n",
        "\n",
        "frozenset({3})\n",
        "print(a | b)\n",
        "\n",
        "frozenset({1, 2, 3, 4, 5})\n",
        "a.isdisjoint(b)"
      ],
      "metadata": {
        "id": "3txqn5uJ5Mrk",
        "colab": {
          "base_uri": "https://localhost:8080/"
        },
        "outputId": "8f874fe2-3a97-4a6c-df2a-e1d45c4c96b0"
      },
      "id": "3txqn5uJ5Mrk",
      "execution_count": 25,
      "outputs": [
        {
          "output_type": "stream",
          "name": "stdout",
          "text": [
            "frozenset({3})\n",
            "frozenset({1, 2, 3, 4, 5})\n"
          ]
        },
        {
          "output_type": "execute_result",
          "data": {
            "text/plain": [
              "False"
            ]
          },
          "metadata": {},
          "execution_count": 25
        }
      ]
    },
    {
      "cell_type": "markdown",
      "source": [
        "## 2.5 Concepto de funciones"
      ],
      "metadata": {
        "id": "eVNVoh-oj6pO"
      },
      "id": "eVNVoh-oj6pO"
    },
    {
      "cell_type": "code",
      "source": [
        "### dia 51\n",
        "import numpy as np\n",
        "import matplotlib.pyplot as plt\n",
        "\n",
        "#f(x)=3x+1\n",
        "x= np.linspace(-5,5,1001)\n",
        "fx = 3*x+1\n",
        "\n",
        "plt.plot(x, fx)\n",
        "plt.show()"
      ],
      "metadata": {
        "id": "_5ZANkZejiJ8",
        "colab": {
          "base_uri": "https://localhost:8080/",
          "height": 430
        },
        "outputId": "36e8bdf4-15fb-4968-8c0c-c7c69799d593"
      },
      "id": "_5ZANkZejiJ8",
      "execution_count": 26,
      "outputs": [
        {
          "output_type": "display_data",
          "data": {
            "text/plain": [
              "<Figure size 640x480 with 1 Axes>"
            ],
            "image/png": "[encoded data removed]"
          },
          "metadata": {}
        }
      ]
    },
    {
      "cell_type": "code",
      "source": [
        "### dia 56\n",
        "#f(x)=x^3+1\n",
        "def f(x):\n",
        "    return x**3 + 1\n",
        "\n",
        "# g(x)=sqrt(x+2)\n",
        "def g(x):\n",
        "    return np.sqrt(x+2)\n",
        "\n",
        "# (go f)(2), (f o g)(2), (g o g) (2)\n",
        "print(\"(g o f)(2) =\", g(f(2)))\n",
        "print(\"(f o g)(2) =\", f(g(2)))\n",
        "print(\"(g o g)(2) =\", g(g(2)))"
      ],
      "metadata": {
        "id": "82Vt1n7vjkl5",
        "colab": {
          "base_uri": "https://localhost:8080/"
        },
        "outputId": "d8e69bba-f95d-49af-9755-c7d7ff4d08d4"
      },
      "id": "82Vt1n7vjkl5",
      "execution_count": 27,
      "outputs": [
        {
          "output_type": "stream",
          "name": "stdout",
          "text": [
            "(g o f)(2) = 3.3166247903554\n",
            "(f o g)(2) = 9.0\n",
            "(g o g)(2) = 2.0\n"
          ]
        }
      ]
    },
    {
      "cell_type": "markdown",
      "source": [
        "## 2.6 Función exponencial y logarítmica"
      ],
      "metadata": {
        "id": "IhmT28X9kJgv"
      },
      "id": "IhmT28X9kJgv"
    },
    {
      "cell_type": "code",
      "source": [
        "# Funciones exponenciales\n",
        "# Dibuje la gráfica de la función y1 = 3^x + 2; y2 = 3^(x-1) + 2\n",
        "import numpy as np\n",
        "import matplotlib.pyplot as plt\n",
        "\n",
        "x = np.linspace (-1,2,301)\n",
        "y1 = 3**x\n",
        "y2 = 3**(x-1)+2\n",
        "\n",
        "# Gráfico\n",
        "g1 = plt.plot(x, y1)\n",
        "g2 = plt.plot(x, y2)\n",
        "plt.legend(handles=(g1, g2), labels=(r'$y=3^{x}$',r'$y=3^{x-1} + 2$'))\n",
        "plt.show()"
      ],
      "metadata": {
        "colab": {
          "base_uri": "https://localhost:8080/",
          "height": 499
        },
        "id": "YQemlUoc7VI2",
        "outputId": "6ed26037-8a0a-4f1b-b351-841266ced7fe"
      },
      "id": "YQemlUoc7VI2",
      "execution_count": 28,
      "outputs": [
        {
          "output_type": "stream",
          "name": "stderr",
          "text": [
            "<ipython-input-28-91d5796abdaf>:13: UserWarning: Legend does not support handles for list instances.\n",
            "A proxy artist may be used instead.\n",
            "See: https://matplotlib.org/stable/tutorials/intermediate/legend_guide.html#controlling-the-legend-entries\n",
            "  plt.legend(handles=(g1, g2), labels=(r'$y=3^{x}$',r'$y=3^{x-1} + 2$'))\n"
          ]
        },
        {
          "output_type": "display_data",
          "data": {
            "text/plain": [
              "<Figure size 640x480 with 1 Axes>"
            ],
            "image/png": "[encoded data removed]"
          },
          "metadata": {}
        }
      ]
    },
    {
      "cell_type": "code",
      "source": [
        "# Funciones exponenciales\n",
        "# Dibuje la gráfica de la función y1 = 2^(-x); y2 = -2^(-x-2)\n",
        "import numpy as np\n",
        "import matplotlib.pyplot as plt\n",
        "\n",
        "x = np.linspace (-1,2,301)\n",
        "y1 = 2**(-x)\n",
        "y2 = -2**(-x-2)\n",
        "\n",
        "# Gráfico\n",
        "g1 = plt.plot(x, y1)\n",
        "g2 = plt.plot(x, y2)\n",
        "plt.legend(handles=(g1, g2), labels=(r'$y=2^{-x}$',r'$y=-2^{-x-2}$'))\n",
        "plt.show()"
      ],
      "metadata": {
        "id": "aHBLVMgh-C6i",
        "colab": {
          "base_uri": "https://localhost:8080/",
          "height": 499
        },
        "outputId": "8c83d576-9c3f-4420-c9e0-c6de6cfbe314"
      },
      "id": "aHBLVMgh-C6i",
      "execution_count": 29,
      "outputs": [
        {
          "output_type": "stream",
          "name": "stderr",
          "text": [
            "<ipython-input-29-d3932dca22fd>:13: UserWarning: Legend does not support handles for list instances.\n",
            "A proxy artist may be used instead.\n",
            "See: https://matplotlib.org/stable/tutorials/intermediate/legend_guide.html#controlling-the-legend-entries\n",
            "  plt.legend(handles=(g1, g2), labels=(r'$y=2^{-x}$',r'$y=-2^{-x-2}$'))\n"
          ]
        },
        {
          "output_type": "display_data",
          "data": {
            "text/plain": [
              "<Figure size 640x480 with 1 Axes>"
            ],
            "image/png": "[encoded data removed]"
          },
          "metadata": {}
        }
      ]
    },
    {
      "cell_type": "code",
      "source": [
        "# Funciones logarítmica\n",
        "# Dibuje la gráfica de la función y1 = log_2(x); y2 = log_2(x+1) − 1\n",
        "\n",
        "import numpy as np\n",
        "import matplotlib.pyplot as plt\n",
        "\n",
        "x1 = np.linspace (0.1,4,401)\n",
        "#y1=log_2(x)\n",
        "y1 = np.log2(x1)\n",
        "x2 = np.linspace(-0.9,4,501)\n",
        "#y2=log_2(x+1)-1\n",
        "y2 = np.log2(x2+1)-1\n",
        "# For visualization\n",
        "graph1, = plt.plot(x1,y1)\n",
        "graph2, = plt.plot(x2,y2)\n",
        "labels = ('$y1=log_2(x)$','$y2=log_2(x+1)−1$')\n",
        "plt.legend(handles=(graph1, graph2), labels=labels)\n",
        "plt.show()"
      ],
      "metadata": {
        "id": "Opo55e7mhgbH",
        "colab": {
          "base_uri": "https://localhost:8080/",
          "height": 430
        },
        "outputId": "76a888b5-1513-479f-bfe6-53ad6704b697"
      },
      "id": "Opo55e7mhgbH",
      "execution_count": 30,
      "outputs": [
        {
          "output_type": "display_data",
          "data": {
            "text/plain": [
              "<Figure size 640x480 with 1 Axes>"
            ],
            "image/png": "[encoded data removed]"
          },
          "metadata": {}
        }
      ]
    },
    {
      "cell_type": "markdown",
      "source": [
        "## 2.7 Logaritmo natural"
      ],
      "metadata": {
        "id": "lErVp5JRAIQm"
      },
      "id": "lErVp5JRAIQm"
    },
    {
      "cell_type": "code",
      "source": [
        "import math\n",
        "\n",
        "math.log(8)"
      ],
      "metadata": {
        "colab": {
          "base_uri": "https://localhost:8080/"
        },
        "id": "mYuKTv-WAHps",
        "outputId": "1a575d68-8bf0-4d16-da2e-c4ee86996e34"
      },
      "id": "mYuKTv-WAHps",
      "execution_count": 31,
      "outputs": [
        {
          "output_type": "execute_result",
          "data": {
            "text/plain": [
              "2.0794415416798357"
            ]
          },
          "metadata": {},
          "execution_count": 31
        }
      ]
    },
    {
      "cell_type": "code",
      "source": [
        "# logaritmo de 8 en base 2\n",
        "math.log(8, 2)"
      ],
      "metadata": {
        "id": "oUvc6UODjquC",
        "colab": {
          "base_uri": "https://localhost:8080/"
        },
        "outputId": "fc121b94-5856-4487-d1a2-9f8d475c495f"
      },
      "id": "oUvc6UODjquC",
      "execution_count": 32,
      "outputs": [
        {
          "output_type": "execute_result",
          "data": {
            "text/plain": [
              "3.0"
            ]
          },
          "metadata": {},
          "execution_count": 32
        }
      ]
    },
    {
      "cell_type": "markdown",
      "source": [
        "## 2.8 Funciones sigmoideas\n"
      ],
      "metadata": {
        "id": "vxN9iH9oCAAf"
      },
      "id": "vxN9iH9oCAAf"
    },
    {
      "cell_type": "code",
      "source": [
        "# Libreria math\n",
        "\n",
        "import math\n",
        "\n",
        "\n",
        "def stable_sigmoid(x):\n",
        "\n",
        "    if x >= 0:\n",
        "        z = math.exp(-x)\n",
        "        sig = 1 / (1 + z)\n",
        "        return sig\n",
        "    else:\n",
        "        z = math.exp(x)\n",
        "        sig = z / (1 + z)\n",
        "        return sig"
      ],
      "metadata": {
        "id": "UTqP_raVBr01"
      },
      "id": "UTqP_raVBr01",
      "execution_count": 33,
      "outputs": []
    },
    {
      "cell_type": "code",
      "source": [
        "# Libreria numpy\n",
        "\n",
        "import numpy as np\n",
        "\n",
        "\n",
        "def sigmoid(x):\n",
        "\n",
        "    z = np.exp(-x)\n",
        "    sig = 1 / (1 + z)\n",
        "\n",
        "    return sig"
      ],
      "metadata": {
        "id": "qMTJzK0rCluC"
      },
      "id": "qMTJzK0rCluC",
      "execution_count": 34,
      "outputs": []
    },
    {
      "cell_type": "code",
      "source": [
        "# La ventaja del método numpy.exp() sobre math.exp() es que, además de integer o float,\n",
        "# también puede manejar la entrada en forma de array.\n",
        "\n",
        "import numpy as np\n",
        "\n",
        "\n",
        "def stable_sigmoid(x):\n",
        "\n",
        "    sig = np.where(x < 0, np.exp(x) / (1 + np.exp(x)), 1 / (1 + np.exp(-x)))\n",
        "    return sig"
      ],
      "metadata": {
        "id": "cSSulw7HC6Vc"
      },
      "id": "cSSulw7HC6Vc",
      "execution_count": 35,
      "outputs": []
    },
    {
      "cell_type": "code",
      "source": [
        "# Libreria scipy\n",
        "\n",
        "from scipy.special import expit\n",
        "\n",
        "x = 0.25\n",
        "sig = expit(x)"
      ],
      "metadata": {
        "id": "-dA7W24IDJ8H"
      },
      "id": "-dA7W24IDJ8H",
      "execution_count": 36,
      "outputs": []
    },
    {
      "cell_type": "code",
      "source": [
        "# El método expit() es más lento que las implementaciones anteriores.\n",
        "# La ventaja del método expit() es que puede manejar automáticamente varios tipos de entradas como lista, matriz, etc.\n",
        "\n",
        "from scipy.special import expit\n",
        "\n",
        "sig = expit(np.array([0.25, 0.5, 0.6, 0.7, 0.4]))\n",
        "print(sig)"
      ],
      "metadata": {
        "id": "_-B-G-a2DgGQ",
        "colab": {
          "base_uri": "https://localhost:8080/"
        },
        "outputId": "a611b1d2-3d8d-4078-fd81-6f5d2f174678"
      },
      "id": "_-B-G-a2DgGQ",
      "execution_count": 37,
      "outputs": [
        {
          "output_type": "stream",
          "name": "stdout",
          "text": [
            "[0.5621765  0.62245933 0.64565631 0.66818777 0.59868766]\n"
          ]
        }
      ]
    },
    {
      "cell_type": "markdown",
      "source": [
        "## 2.9 Funciones trigonométricas"
      ],
      "metadata": {
        "id": "pHP35C2uDuOU"
      },
      "id": "pHP35C2uDuOU"
    },
    {
      "cell_type": "code",
      "source": [
        "# Libreria math\n",
        "\n",
        "import math\n",
        "\n",
        "print(\"pi\", math.pi)\n",
        "print(\"\\npi/2\", math.pi/2)\n",
        "print(\"\\nsin\", math.sin(math.pi/3))\n",
        "print(\"\\ncos\", math.cos(math.pi/3))\n",
        "print(\"\\narcotangente\", math.atan(1))\n",
        "print(\"\\ngrados\", math.degrees(0.7853981633974483)) # Radianes a grados\n",
        "print(\"\\nradianes\", math.radians(90))\n",
        "print(\"\\nhipotenusa\", math.hypot(3, 4))"
      ],
      "metadata": {
        "id": "-FOThzGwDy2X",
        "colab": {
          "base_uri": "https://localhost:8080/"
        },
        "outputId": "3623a500-5466-4e40-e922-b312e31c5c0d"
      },
      "id": "-FOThzGwDy2X",
      "execution_count": 38,
      "outputs": [
        {
          "output_type": "stream",
          "name": "stdout",
          "text": [
            "pi 3.141592653589793\n",
            "\n",
            "pi/2 1.5707963267948966\n",
            "\n",
            "sin 0.8660254037844386\n",
            "\n",
            "cos 0.5000000000000001\n",
            "\n",
            "arcotangente 0.7853981633974483\n",
            "\n",
            "grados 45.0\n",
            "\n",
            "radianes 1.5707963267948966\n",
            "\n",
            "hipotenusa 5.0\n"
          ]
        }
      ]
    },
    {
      "cell_type": "code",
      "source": [
        "# Libreria numpy\n",
        "\n",
        "import numpy as np\n",
        "\n",
        "a=np.array([3.1415, 2.0943, 1.5707, 1.0471, 0.])\n",
        "print(\"\\nsin\", np.sin(a))\n",
        "print(\"\\ncos\", np.cos(a))\n",
        "print(\"\\ntangente\", np.tan(a))\n",
        "print(\"\\narcoseno\", np.arcsin(a))\n",
        "print(\"\\narcocoseno\", np.arccos(a))\n",
        "print(\"\\narcotangente\", np.arctan(a))\n",
        "print(\"\\ngrados\", np.deg2rad(a)) # Radianes a grados\n",
        "print(\"\\nradianes\", np.rad2deg(90))"
      ],
      "metadata": {
        "id": "WScAwIqAHc5S",
        "colab": {
          "base_uri": "https://localhost:8080/"
        },
        "outputId": "4a35e754-5051-41cd-9eae-b9e4bf0cc88f"
      },
      "id": "WScAwIqAHc5S",
      "execution_count": 39,
      "outputs": [
        {
          "output_type": "stream",
          "name": "stdout",
          "text": [
            "\n",
            "sin [9.26535897e-05 8.66072951e-01 9.99999995e-01 8.65976624e-01\n",
            " 0.00000000e+00]\n",
            "\n",
            "cos [-9.99999996e-01 -4.99917637e-01  9.63267947e-05  5.00084479e-01\n",
            "  1.00000000e+00]\n",
            "\n",
            "tangente [-9.26535901e-05 -1.73243128e+00  1.03813274e+04  1.73166067e+00\n",
            "  0.00000000e+00]\n",
            "\n",
            "arcoseno [nan nan nan nan  0.]\n",
            "\n",
            "arcocoseno [       nan        nan        nan        nan 1.57079633]\n",
            "\n",
            "arcotangente [1.26261873 1.12532118 1.00385704 0.80840226 0.        ]\n",
            "\n",
            "grados [0.05482952 0.03655243 0.02741389 0.01827534 0.        ]\n",
            "\n",
            "radianes 5156.620156177409\n"
          ]
        },
        {
          "output_type": "stream",
          "name": "stderr",
          "text": [
            "<ipython-input-39-7db65c402e19>:9: RuntimeWarning: invalid value encountered in arcsin\n",
            "  print(\"\\narcoseno\", np.arcsin(a))\n",
            "<ipython-input-39-7db65c402e19>:10: RuntimeWarning: invalid value encountered in arccos\n",
            "  print(\"\\narcocoseno\", np.arccos(a))\n"
          ]
        }
      ]
    },
    {
      "cell_type": "markdown",
      "source": [
        "# Unidad 3. Comprender la ciencia de datos: Vector"
      ],
      "metadata": {
        "id": "B2ACnIkoJVl-"
      },
      "id": "B2ACnIkoJVl-"
    },
    {
      "cell_type": "markdown",
      "source": [
        "## 3.1 Vector"
      ],
      "metadata": {
        "id": "lvDjdw9qJeuD"
      },
      "id": "lvDjdw9qJeuD"
    },
    {
      "cell_type": "code",
      "source": [
        "v1 = []\n",
        "v2 = list()\n",
        "\n",
        "v1 = [1, 2, True, 'Hola', 5.8]\n",
        "v2 = list([4, 9, False, 'texto'])"
      ],
      "metadata": {
        "id": "AFxUZGUBJeGh"
      },
      "id": "AFxUZGUBJeGh",
      "execution_count": 40,
      "outputs": []
    },
    {
      "cell_type": "code",
      "source": [
        "mi_lista = ['Juan', 'Pedro', 'Laura', 'Carmen', 'Susana']\n",
        "print(mi_lista[0]) # Muestra Juan (la primera posición es la 0)\n",
        "print(mi_lista[-1]) # Muestra Susana\n",
        "print(mi_lista[1]) # Muestra Pedro"
      ],
      "metadata": {
        "id": "O_EKqFlwK6_-",
        "colab": {
          "base_uri": "https://localhost:8080/"
        },
        "outputId": "ad5b1b5b-83de-4e61-9f88-36b701364b59"
      },
      "id": "O_EKqFlwK6_-",
      "execution_count": 41,
      "outputs": [
        {
          "output_type": "stream",
          "name": "stdout",
          "text": [
            "Juan\n",
            "Susana\n",
            "Pedro\n"
          ]
        }
      ]
    },
    {
      "cell_type": "code",
      "source": [
        "# Libreria numpy\n",
        "\n",
        "import numpy as np\n",
        "\n",
        "vec = np.arange(9)\n",
        "print(type(vec)) # #n-dimensional array\n",
        "\n",
        "a = np.array(vec)\n",
        "print(type(a))\n",
        "\n",
        "# Tipo de datos que estan en el arreglo\n",
        "a.dtype # homogeneos"
      ],
      "metadata": {
        "id": "b60ZRhmZLF7i",
        "colab": {
          "base_uri": "https://localhost:8080/"
        },
        "outputId": "c2aafb7a-3866-4002-947c-1d360af60ad1"
      },
      "id": "b60ZRhmZLF7i",
      "execution_count": 42,
      "outputs": [
        {
          "output_type": "stream",
          "name": "stdout",
          "text": [
            "<class 'numpy.ndarray'>\n",
            "<class 'numpy.ndarray'>\n"
          ]
        },
        {
          "output_type": "execute_result",
          "data": {
            "text/plain": [
              "dtype('int64')"
            ]
          },
          "metadata": {},
          "execution_count": 42
        }
      ]
    },
    {
      "cell_type": "markdown",
      "source": [
        "## 3.2 Norma de un vector"
      ],
      "metadata": {
        "id": "uOf_06x2Jssj"
      },
      "id": "uOf_06x2Jssj"
    },
    {
      "cell_type": "code",
      "source": [
        "# import library numpy\n",
        "import numpy as np\n",
        "\n",
        "# initialize vector\n",
        "vec = np.arange(9)\n",
        "\n",
        "# Calculando la norma de un vector\n",
        "vec_norm = np.linalg.norm(vec) # Magnitud del vector\n",
        "vec_norm"
      ],
      "metadata": {
        "colab": {
          "base_uri": "https://localhost:8080/"
        },
        "id": "R5EdZVjeJci6",
        "outputId": "9ffad2f2-2ebf-4423-943c-998fe2f5e02d"
      },
      "id": "R5EdZVjeJci6",
      "execution_count": 43,
      "outputs": [
        {
          "output_type": "execute_result",
          "data": {
            "text/plain": [
              "14.2828568570857"
            ]
          },
          "metadata": {},
          "execution_count": 43
        }
      ]
    },
    {
      "cell_type": "markdown",
      "source": [
        "## 3.3. Producto interno (escalar)"
      ],
      "metadata": {
        "id": "B2SgQq2AJ1zj"
      },
      "id": "B2SgQq2AJ1zj"
    },
    {
      "cell_type": "code",
      "source": [
        "# Lib numpy\n",
        "import numpy as np\n",
        "\n",
        "a = np.array([1,2,3], float)\n",
        "b = np.array([4,5,6], float)"
      ],
      "metadata": {
        "id": "nJDJwXjJJ6i2"
      },
      "id": "nJDJwXjJJ6i2",
      "execution_count": 44,
      "outputs": []
    },
    {
      "cell_type": "code",
      "source": [
        "# Método 1\n",
        "a @ b"
      ],
      "metadata": {
        "colab": {
          "base_uri": "https://localhost:8080/"
        },
        "id": "uUATz6uaOTYp",
        "outputId": "542b4664-7357-42ea-cb51-4695726d14c9"
      },
      "id": "uUATz6uaOTYp",
      "execution_count": 45,
      "outputs": [
        {
          "output_type": "execute_result",
          "data": {
            "text/plain": [
              "32.0"
            ]
          },
          "metadata": {},
          "execution_count": 45
        }
      ]
    },
    {
      "cell_type": "code",
      "source": [
        "# Método 2\n",
        "np.dot(a,b)"
      ],
      "metadata": {
        "colab": {
          "base_uri": "https://localhost:8080/"
        },
        "id": "w37vKsKwOTro",
        "outputId": "8d074a4b-4c27-421c-e3a4-a668622deadc"
      },
      "id": "w37vKsKwOTro",
      "execution_count": 46,
      "outputs": [
        {
          "output_type": "execute_result",
          "data": {
            "text/plain": [
              "32.0"
            ]
          },
          "metadata": {},
          "execution_count": 46
        }
      ]
    },
    {
      "cell_type": "code",
      "source": [
        "# Método 3\n",
        "res = []\n",
        "for i, k in zip (a, b):\n",
        "    res.append (i * k)\n",
        "\n",
        "sum (res)"
      ],
      "metadata": {
        "colab": {
          "base_uri": "https://localhost:8080/"
        },
        "id": "RpjOxAlrOxH5",
        "outputId": "f7ee2da2-d285-4ee9-d14c-43884d65c8dd"
      },
      "id": "RpjOxAlrOxH5",
      "execution_count": 47,
      "outputs": [
        {
          "output_type": "execute_result",
          "data": {
            "text/plain": [
              "32.0"
            ]
          },
          "metadata": {},
          "execution_count": 47
        }
      ]
    },
    {
      "cell_type": "code",
      "source": [
        "# Método 4\n",
        "sum (np.array (a) * np.array (b))"
      ],
      "metadata": {
        "colab": {
          "base_uri": "https://localhost:8080/"
        },
        "id": "Hls45-cRO2C-",
        "outputId": "e2ea22a4-1a9f-406c-e9a5-78959985549a"
      },
      "id": "Hls45-cRO2C-",
      "execution_count": 48,
      "outputs": [
        {
          "output_type": "execute_result",
          "data": {
            "text/plain": [
              "32.0"
            ]
          },
          "metadata": {},
          "execution_count": 48
        }
      ]
    },
    {
      "cell_type": "markdown",
      "source": [
        "### Ángulo entre vectores"
      ],
      "metadata": {
        "id": "WIQj4Nq_uKjY"
      },
      "id": "WIQj4Nq_uKjY"
    },
    {
      "cell_type": "code",
      "source": [
        "import math\n",
        "def dotproduct(v1, v2):\n",
        "    return sum((a*b) for a, b in zip(v1, v2))\n",
        "\n",
        "def length(v):\n",
        "    return math.sqrt(dotproduct(v, v))\n",
        "\n",
        "def angle(v1, v2):\n",
        "    return math.acos(dotproduct(v1, v2) / (length(v1) * length(v2)))\n",
        "\n",
        "angle(a,b)"
      ],
      "metadata": {
        "colab": {
          "base_uri": "https://localhost:8080/"
        },
        "id": "mq5P_zOZuImP",
        "outputId": "dbb0dd03-f2ac-4970-dce8-ae373039f4d8"
      },
      "id": "mq5P_zOZuImP",
      "execution_count": 49,
      "outputs": [
        {
          "output_type": "execute_result",
          "data": {
            "text/plain": [
              "0.2257261285527342"
            ]
          },
          "metadata": {},
          "execution_count": 49
        }
      ]
    },
    {
      "cell_type": "markdown",
      "source": [
        "## 3.4. Condición de Ortogonalidad\n",
        "\n",
        "![image.png](data:image/png;base64,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)"
      ],
      "metadata": {
        "id": "n7ngS5OYJ66N"
      },
      "id": "n7ngS5OYJ66N"
    },
    {
      "cell_type": "code",
      "source": [
        "# Si son ortogonales, el producto punto de los vectores será 0\n",
        "\n",
        "v1 = np.array([2,2])\n",
        "v2 = np.array([2,-2])\n",
        "v1@v2.T"
      ],
      "metadata": {
        "colab": {
          "base_uri": "https://localhost:8080/"
        },
        "id": "gM9tw2F3J9bm",
        "outputId": "fe8ce1ba-4cd4-4721-daa5-a88203a58d4d"
      },
      "id": "gM9tw2F3J9bm",
      "execution_count": 50,
      "outputs": [
        {
          "output_type": "execute_result",
          "data": {
            "text/plain": [
              "0"
            ]
          },
          "metadata": {},
          "execution_count": 50
        }
      ]
    },
    {
      "cell_type": "code",
      "source": [
        "# Si son ortonormales, la norma de los vectores es 1 = Magnitud del vector\n",
        "# Calculando la norma de un vector\n",
        "np.linalg.norm(v1), np.linalg.norm(v2) # No son ortonormales"
      ],
      "metadata": {
        "colab": {
          "base_uri": "https://localhost:8080/"
        },
        "id": "tOjsMspSSGCp",
        "outputId": "222f56d5-d5f8-4308-bda0-3188fd0fa209"
      },
      "id": "tOjsMspSSGCp",
      "execution_count": 51,
      "outputs": [
        {
          "output_type": "execute_result",
          "data": {
            "text/plain": [
              "(2.8284271247461903, 2.8284271247461903)"
            ]
          },
          "metadata": {},
          "execution_count": 51
        }
      ]
    },
    {
      "cell_type": "markdown",
      "source": [
        "## 3.6. Similitud Coseno"
      ],
      "metadata": {
        "id": "umjCCcRFKBZF"
      },
      "id": "umjCCcRFKBZF"
    },
    {
      "cell_type": "code",
      "source": [
        "# En redes neuronales este tema es bastante importante, ya que el coseno\n",
        "# Se usa como metrica para medir el accuracy(precisión) de un modelo de machine learning,\n",
        "\n",
        "# (X) midiendo la similitud entre el vector de los labels y el vector de nuestras predicciones.\n",
        "\n",
        "\n",
        "# Método 1\n",
        "# Módulo scipy\n",
        "# La función spatial.cosine.distance() del módulo scipy calcula la distancia en lugar de la similitud del coseno,\n",
        "# pero para lograr eso, podemos restar el valor de la distancia de 1.\n",
        "from scipy import spatial\n",
        "\n",
        "List1 = [4, 47, 8, 3]\n",
        "List2 = [3, 52, 12, 16]\n",
        "result = 1 - spatial.distance.cosine(List1, List2)\n",
        "print(result)"
      ],
      "metadata": {
        "id": "W_kQfxIzKEg4",
        "colab": {
          "base_uri": "https://localhost:8080/"
        },
        "outputId": "21e3868a-13e3-4f89-d265-80fb4b9d46a1"
      },
      "id": "W_kQfxIzKEg4",
      "execution_count": 52,
      "outputs": [
        {
          "output_type": "stream",
          "name": "stdout",
          "text": [
            "0.9720951480078084\n"
          ]
        }
      ]
    },
    {
      "cell_type": "code",
      "source": [
        "# Método 2\n",
        "# Módulo numpy\n",
        "# La función numpy.dot() calcula el producto escalar de los dos vectores pasados ​​como parámetros.\n",
        "# La función numpy.norm() devuelve la norma vectorial.\n",
        "# Podemos usar estas funciones con la fórmula correcta para calcular la similitud del coseno.\n",
        "from numpy import dot\n",
        "from numpy.linalg import norm\n",
        "\n",
        "List1 = [4, 47, 8, 3]\n",
        "List2 = [3, 52, 12, 16]\n",
        "result = dot(List1, List2) / (norm(List1) * norm(List2))\n",
        "print(result)"
      ],
      "metadata": {
        "colab": {
          "base_uri": "https://localhost:8080/"
        },
        "id": "Qghxn-SenpRB",
        "outputId": "d68acddb-48ed-49ae-feb0-cfac9eb0550e"
      },
      "id": "Qghxn-SenpRB",
      "execution_count": 53,
      "outputs": [
        {
          "output_type": "stream",
          "name": "stdout",
          "text": [
            "0.9720951480078084\n"
          ]
        }
      ]
    },
    {
      "cell_type": "code",
      "source": [
        "# Método 3\n",
        "# Módulo sklearn\n",
        "import numpy as np\n",
        "from sklearn.metrics.pairwise import cosine_similarity, cosine_distances\n",
        "\n",
        "A = np.array([10, 3])\n",
        "B = np.array([8, 7])\n",
        "result = cosine_similarity(A.reshape(1, -1), B.reshape(1, -1))\n",
        "print(result)"
      ],
      "metadata": {
        "colab": {
          "base_uri": "https://localhost:8080/"
        },
        "id": "njOOIaX5oDMY",
        "outputId": "6a522145-9171-4268-9fda-a109dd50d645"
      },
      "id": "njOOIaX5oDMY",
      "execution_count": 54,
      "outputs": [
        {
          "output_type": "stream",
          "name": "stdout",
          "text": [
            "[[0.91005765]]\n"
          ]
        }
      ]
    },
    {
      "cell_type": "markdown",
      "source": [
        "# Unidad 4. Matrices"
      ],
      "metadata": {
        "id": "x0WcJUwPOheu"
      },
      "id": "x0WcJUwPOheu"
    },
    {
      "cell_type": "markdown",
      "source": [
        "## 4.1. Cálculo de Matrices"
      ],
      "metadata": {
        "id": "Cxb6eP35Ox18"
      },
      "id": "Cxb6eP35Ox18"
    },
    {
      "cell_type": "markdown",
      "source": [
        " Calculo de matrices\n",
        "\n",
        " ![image.png](data:image/png;base64,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)"
      ],
      "metadata": {
        "id": "NQOval1ll6e_"
      },
      "id": "NQOval1ll6e_"
    },
    {
      "cell_type": "code",
      "source": [
        "# Suma, Resta y Multiplicación Escalar de Matrices\n",
        "import numpy as np\n",
        "\n",
        "A = np.array([[1,-4],[-4,1]])\n",
        "B = np.array([[2, -8],[-8,2]])\n",
        "\n",
        "print(type(A))\n",
        "print(\"A+B=\\n\",A+B)\n",
        "print(\"\\nA-(1/2)B=\\n\",A-(1/2)*B) # racional\n",
        "print(\"\\n5A=\\n\", 5*A)"
      ],
      "metadata": {
        "colab": {
          "base_uri": "https://localhost:8080/"
        },
        "id": "K1UwuOkKOux8",
        "outputId": "1a22a2ef-78dd-498c-a186-7a9a89288e5e"
      },
      "id": "K1UwuOkKOux8",
      "execution_count": 55,
      "outputs": [
        {
          "output_type": "stream",
          "name": "stdout",
          "text": [
            "<class 'numpy.ndarray'>\n",
            "A+B=\n",
            " [[  3 -12]\n",
            " [-12   3]]\n",
            "\n",
            "A-(1/2)B=\n",
            " [[0. 0.]\n",
            " [0. 0.]]\n",
            "\n",
            "5A=\n",
            " [[  5 -20]\n",
            " [-20   5]]\n"
          ]
        }
      ]
    },
    {
      "cell_type": "code",
      "source": [
        "# Ley conmutativa?\n",
        "import numpy as np\n",
        "\n",
        "A = np.array([[2,3,1],[4,5,1]])\n",
        "B = np.array([[-1,2],[4,-2],[3,6]])\n",
        "\n",
        "print(\"AB = \\n\", np.dot(A,B))\n",
        "print(\"BA = \\n\", np.dot(B,A))"
      ],
      "metadata": {
        "colab": {
          "base_uri": "https://localhost:8080/"
        },
        "id": "2YFHbl4JP6ik",
        "outputId": "59866c9e-297a-48ac-c4a7-19340d66a99d"
      },
      "id": "2YFHbl4JP6ik",
      "execution_count": 56,
      "outputs": [
        {
          "output_type": "stream",
          "name": "stdout",
          "text": [
            "AB = \n",
            " [[13  4]\n",
            " [19  4]]\n",
            "BA = \n",
            " [[ 6  7  1]\n",
            " [ 0  2  2]\n",
            " [30 39  9]]\n"
          ]
        }
      ]
    },
    {
      "cell_type": "markdown",
      "source": [
        "## 4.2. Matriz inversa"
      ],
      "metadata": {
        "id": "ciBvbHLoQrI9"
      },
      "id": "ciBvbHLoQrI9"
    },
    {
      "cell_type": "markdown",
      "source": [
        "Determinante de una matriz\n",
        "https://www.sdelsol.com/glosario/determinante-de-una-matriz/\n",
        "\n",
        "- Matrices mayores a 2x2 -> Regla de Laplace o Sarrus"
      ],
      "metadata": {
        "id": "4VKV0_lbpBvr"
      },
      "id": "4VKV0_lbpBvr"
    },
    {
      "cell_type": "code",
      "source": [
        "import numpy as np\n",
        "\n",
        "A = np.array([[1,3],[5,7]])\n",
        "B = np.array([[4,-6],[-8,12]])\n",
        "\n",
        "detA = np.linalg.det(A)\n",
        "detB = np.linalg.det(B)\n",
        "Ainv = np.linalg.inv(A)\n",
        "\n",
        "print(\"Determinante de A=\", detA)\n",
        "print(\"\\nDeterminante de B=\", detB)\n",
        "print(\"\\nInversa de A=\\n\", Ainv)"
      ],
      "metadata": {
        "colab": {
          "base_uri": "https://localhost:8080/"
        },
        "id": "n3cWlBz9Qt6g",
        "outputId": "7061d14c-ad58-4484-d79d-4ed36d15a623"
      },
      "id": "n3cWlBz9Qt6g",
      "execution_count": 57,
      "outputs": [
        {
          "output_type": "stream",
          "name": "stdout",
          "text": [
            "Determinante de A= -7.999999999999998\n",
            "\n",
            "Determinante de B= 0.0\n",
            "\n",
            "Inversa de A=\n",
            " [[-0.875  0.375]\n",
            " [ 0.625 -0.125]]\n"
          ]
        }
      ]
    },
    {
      "cell_type": "markdown",
      "source": [
        "## 4.3. Transformación Lineal"
      ],
      "metadata": {
        "id": "vETYU50ESeI_"
      },
      "id": "vETYU50ESeI_"
    },
    {
      "cell_type": "code",
      "source": [
        "## https://github.com/platzi/algebra-lineal-python/blob/master/09%20-%20Transformaciones%20Lineales%20y%20Descomposicion%20de%20Matrices/Matrices%20y%20transformaciones%20lineales.ipynb"
      ],
      "metadata": {
        "id": "6SuAniW7Sfcd"
      },
      "id": "6SuAniW7Sfcd",
      "execution_count": 58,
      "outputs": []
    },
    {
      "cell_type": "markdown",
      "source": [
        "## 4.4. Eigenvalores y Eigenvectores"
      ],
      "metadata": {
        "id": "GPW4uRM5SoQN"
      },
      "id": "GPW4uRM5SoQN"
    },
    {
      "cell_type": "code",
      "source": [
        "# http://gmc.geofisica.unam.mx/papime2020/index.php/articulos/38-eigenvalores-y-eigenvectores"
      ],
      "metadata": {
        "id": "frZAFNYmSphg"
      },
      "id": "frZAFNYmSphg",
      "execution_count": 59,
      "outputs": []
    },
    {
      "cell_type": "markdown",
      "source": [
        "# Unidad 5. Derivadas"
      ],
      "metadata": {
        "id": "REFCMWRXSuMf"
      },
      "id": "REFCMWRXSuMf"
    },
    {
      "cell_type": "code",
      "source": [
        "# Razón de cambio en un punto\n",
        "# Pendiente de una recta tangente de la función"
      ],
      "metadata": {
        "id": "O4nxtON9Sw84"
      },
      "id": "O4nxtON9Sw84",
      "execution_count": 60,
      "outputs": []
    },
    {
      "cell_type": "markdown",
      "source": [
        "## 5.1. Límites"
      ],
      "metadata": {
        "id": "xTtWwsxXS3bs"
      },
      "id": "xTtWwsxXS3bs"
    },
    {
      "cell_type": "code",
      "source": [
        "# https://www.youtube.com/watch?v=o2UTk8bsLS0"
      ],
      "metadata": {
        "id": "6izRC_KMS4vs"
      },
      "id": "6izRC_KMS4vs",
      "execution_count": 61,
      "outputs": []
    },
    {
      "cell_type": "markdown",
      "source": [
        "## 5.3. Método Diferencial"
      ],
      "metadata": {
        "id": "0_1F1_HkTA6h"
      },
      "id": "0_1F1_HkTA6h"
    },
    {
      "cell_type": "code",
      "source": [
        "# Encuentre la derivada de la función\n",
        "# f(x) = x^2020 + 3*x^3 - 1\n",
        "\n",
        "import sympy as sp\n",
        "\n",
        "x = sp.Symbol('x')\n",
        "fx = x**2020+3*x*x*x-1\n",
        "fx"
      ],
      "metadata": {
        "colab": {
          "base_uri": "https://localhost:8080/",
          "height": 38
        },
        "id": "nVBTCC5STB0C",
        "outputId": "7dd95f01-5f61-4bea-da86-b76e7b0f46e8"
      },
      "id": "nVBTCC5STB0C",
      "execution_count": 62,
      "outputs": [
        {
          "output_type": "execute_result",
          "data": {
            "text/plain": [
              "x**2020 + 3*x**3 - 1"
            ],
            "text/latex": "$\\displaystyle x^{2020} + 3 x^{3} - 1$"
          },
          "metadata": {},
          "execution_count": 62
        }
      ]
    },
    {
      "cell_type": "code",
      "source": [
        "sp.diff(fx, x)"
      ],
      "metadata": {
        "colab": {
          "base_uri": "https://localhost:8080/",
          "height": 38
        },
        "id": "pnBcwiEvUW9Y",
        "outputId": "550ba7d9-2367-4674-a293-60f3acb129a0"
      },
      "id": "pnBcwiEvUW9Y",
      "execution_count": 63,
      "outputs": [
        {
          "output_type": "execute_result",
          "data": {
            "text/plain": [
              "2020*x**2019 + 9*x**2"
            ],
            "text/latex": "$\\displaystyle 2020 x^{2019} + 9 x^{2}$"
          },
          "metadata": {},
          "execution_count": 63
        }
      ]
    },
    {
      "cell_type": "code",
      "source": [
        "# Encuentre la derivada de la función\n",
        "# g(x) = x/(x+1)\n",
        "\n",
        "import sympy as sp\n",
        "\n",
        "x = sp.Symbol('x')\n",
        "gx = x/(x+1)\n",
        "\n",
        "print(\"g'(x) = \", sp.simplify(sp.diff(gx, x)))"
      ],
      "metadata": {
        "colab": {
          "base_uri": "https://localhost:8080/"
        },
        "id": "rxmz8an_Udt7",
        "outputId": "5049aa96-4063-4365-cf2c-280d75218b0e"
      },
      "id": "rxmz8an_Udt7",
      "execution_count": 64,
      "outputs": [
        {
          "output_type": "stream",
          "name": "stdout",
          "text": [
            "g'(x) =  (x + 1)**(-2)\n"
          ]
        }
      ]
    },
    {
      "cell_type": "markdown",
      "source": [
        "## 5.4. Diferencia entre Logaritmo y Exponencial"
      ],
      "metadata": {
        "id": "4_LXAg8NVUBZ"
      },
      "id": "4_LXAg8NVUBZ"
    },
    {
      "cell_type": "code",
      "source": [
        "# Encuentre la derivada de la función\n",
        "# f(x) = exp(x)/x\n",
        "\n",
        "import sympy as sp\n",
        "\n",
        "x = sp.Symbol('x')\n",
        "fx = sp.exp(x)/x\n",
        "\n",
        "sp.diff(fx, x)"
      ],
      "metadata": {
        "id": "xS8dcpq7VTVQ",
        "colab": {
          "base_uri": "https://localhost:8080/",
          "height": 51
        },
        "outputId": "98ce3a35-7652-4e3c-b959-e7e3b1896557"
      },
      "id": "xS8dcpq7VTVQ",
      "execution_count": 65,
      "outputs": [
        {
          "output_type": "execute_result",
          "data": {
            "text/plain": [
              "exp(x)/x - exp(x)/x**2"
            ],
            "text/latex": "$\\displaystyle \\frac{e^{x}}{x} - \\frac{e^{x}}{x^{2}}$"
          },
          "metadata": {},
          "execution_count": 65
        }
      ]
    },
    {
      "cell_type": "code",
      "source": [
        "# Encuentre la derivada de la función\n",
        "# g(x) = 3log2(x) - xlog(x)\n",
        "\n",
        "import sympy as sp\n",
        "\n",
        "x = sp.Symbol('x')\n",
        "gx = 3*sp.log(x,2) - x*sp.log(x)\n",
        "\n",
        "\n",
        "print(\"g'(x) = \", sp.simplify(sp.diff(gx, x)))"
      ],
      "metadata": {
        "id": "_vsl5US4VyV6",
        "colab": {
          "base_uri": "https://localhost:8080/"
        },
        "outputId": "b7bec7e6-6580-463c-bf24-304228330ed6"
      },
      "id": "_vsl5US4VyV6",
      "execution_count": 66,
      "outputs": [
        {
          "output_type": "stream",
          "name": "stdout",
          "text": [
            "g'(x) =  -log(x) - 1 + 3/(x*log(2))\n"
          ]
        }
      ]
    },
    {
      "cell_type": "markdown",
      "source": [
        "## 5.5. Derivada de la Composición de Funciones"
      ],
      "metadata": {
        "id": "Jl766_NkWj2p"
      },
      "id": "Jl766_NkWj2p"
    },
    {
      "cell_type": "code",
      "source": [
        "# Encuentre la derivada de la función\n",
        "# f(x) = (x^2 + 2)^3\n",
        "\n",
        "import sympy as sp\n",
        "\n",
        "x = sp.Symbol('x')\n",
        "fx = (x**2 + 2)**3\n",
        "\n",
        "sp.diff(fx, x)"
      ],
      "metadata": {
        "id": "6FmK9TN9Wl4F",
        "colab": {
          "base_uri": "https://localhost:8080/",
          "height": 41
        },
        "outputId": "425d542a-9757-42ea-cf83-932317106749"
      },
      "id": "6FmK9TN9Wl4F",
      "execution_count": 67,
      "outputs": [
        {
          "output_type": "execute_result",
          "data": {
            "text/plain": [
              "6*x*(x**2 + 2)**2"
            ],
            "text/latex": "$\\displaystyle 6 x \\left(x^{2} + 2\\right)^{2}$"
          },
          "metadata": {},
          "execution_count": 67
        }
      ]
    },
    {
      "cell_type": "code",
      "source": [
        "# Encuentre la derivada de la función\n",
        "# g(x) = 1/(x^4 + 1)^2\n",
        "\n",
        "import sympy as sp\n",
        "\n",
        "x = sp.Symbol('x')\n",
        "gx = 1/(x**4 + 1)**2\n",
        "\n",
        "sp.diff(gx, x)"
      ],
      "metadata": {
        "id": "oaPsA1sbXZqh",
        "colab": {
          "base_uri": "https://localhost:8080/",
          "height": 61
        },
        "outputId": "0d545ac5-3ff3-4bff-93fb-1085f468ac0b"
      },
      "id": "oaPsA1sbXZqh",
      "execution_count": 68,
      "outputs": [
        {
          "output_type": "execute_result",
          "data": {
            "text/plain": [
              "-8*x**3/(x**4 + 1)**3"
            ],
            "text/latex": "$\\displaystyle - \\frac{8 x^{3}}{\\left(x^{4} + 1\\right)^{3}}$"
          },
          "metadata": {},
          "execution_count": 68
        }
      ]
    },
    {
      "cell_type": "markdown",
      "source": [
        "## 5.7. Derivada de la Función Sigmoidea"
      ],
      "metadata": {
        "id": "Y8M0YvPlX0HL"
      },
      "id": "Y8M0YvPlX0HL"
    },
    {
      "cell_type": "code",
      "source": [
        "## https://www.lawebdelprogramador.com/codigo/Python/7420-SIGMOIDE.html"
      ],
      "metadata": {
        "id": "xNWrJ0CgX1Mj"
      },
      "id": "xNWrJ0CgX1Mj",
      "execution_count": 69,
      "outputs": []
    }
  ],
  "metadata": {
    "celltoolbar": "Slideshow",
    "kernelspec": {
      "display_name": "Python 3 (ipykernel)",
      "language": "python",
      "name": "python3"
    },
    "language_info": {
      "codemirror_mode": {
        "name": "ipython",
        "version": 3
      },
      "file_extension": ".py",
      "mimetype": "text/x-python",
      "name": "python",
      "nbconvert_exporter": "python",
      "pygments_lexer": "ipython3",
      "version": "3.10.12"
    },
    "colab": {
      "provenance": []
    }
  },
  "nbformat": 4,
  "nbformat_minor": 5
}