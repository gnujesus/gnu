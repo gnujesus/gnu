{
  "cells": [
    {
      "cell_type": "markdown",
      "id": "f34adb44",
      "metadata": {
        "id": "f34adb44"
      },
      "source": [
        "# Inteligencia Artificial\n",
        "\n",
        "## Capítulo 3\n",
        "\n",
        "### NumPy Arrays: Computación Numérica Optimizada y Pandas: Análisis Exploratorio de Datos\n",
        "\n",
        "- **Unidad 1.** Estructura de datos de matriz de NumPy para un rendimiento computacional óptimo\n",
        "- **Unidad 2.** Exploración óptima de datos a través de pandas\n",
        "- **Unidad 3.** Pre-procesamiento de datos de pandas para una ejecución óptima del modelo\n",
        "- **Unidad 4.** Visualización de datos para varias escalas de datos\n",
        "\n",
        "# Quiz"
      ]
    },
    {
      "cell_type": "markdown",
      "id": "2e42031a",
      "metadata": {
        "id": "2e42031a"
      },
      "source": [
        "___"
      ]
    },
    {
      "cell_type": "markdown",
      "id": "ac1e9b02",
      "metadata": {
        "id": "ac1e9b02"
      },
      "source": [
        "## Q 03-01\n",
        "\n",
        "### ¿Cuál es una sintaxis correcta para crear una matriz NumPy?\n",
        "\n",
        "1. np.createArray([1, 2, 3, 4, 5])\n",
        "2. np.array([1, 2, 3, 4, 5])\n",
        "3. np.object([1, 2, 3, 4, 5])"
      ]
    },
    {
      "cell_type": "markdown",
      "id": "903e6874",
      "metadata": {
        "id": "903e6874"
      },
      "source": [
        "**Respuesta:**\n",
        "\n",
        "Opción 2"
      ]
    },
    {
      "cell_type": "markdown",
      "id": "87a3a925",
      "metadata": {
        "id": "87a3a925"
      },
      "source": [
        "## Q 03-02\n",
        "\n",
        "### ¿Cuál es una sintaxis correcta para verificar el número de dimensiones en una matriz?\n",
        "\n",
        "1. np.dim()\n",
        "2. np.ndim()\n",
        "3. np.ndim\n",
        "4. np.dim"
      ]
    },
    {
      "cell_type": "markdown",
      "id": "62678495",
      "metadata": {
        "id": "62678495"
      },
      "source": [
        "**Respuesta:**\n",
        "\n",
        "Opción 3"
      ]
    },
    {
      "cell_type": "markdown",
      "id": "8c115f28",
      "metadata": {
        "id": "8c115f28"
      },
      "source": [
        "## Q 03-03\n",
        "\n",
        "### ¿Cuál sería la respuesta de esta suma acumulada en NumPy?\n",
        "\n",
        "```\n",
        "arr = np.array([1,2,3])\n",
        "print(np.cumsum(arr))\n",
        "\n",
        "```\n",
        "\n",
        "1. [3, 6, 9]\n",
        "2. [6]\n",
        "3. [9]\n",
        "4. [1 3 6]"
      ]
    },
    {
      "cell_type": "markdown",
      "id": "4b66252e",
      "metadata": {
        "id": "4b66252e"
      },
      "source": [
        "**Respuesta:**\n",
        "\n",
        "Opción 4"
      ]
    },
    {
      "cell_type": "markdown",
      "id": "410f8980",
      "metadata": {
        "id": "410f8980"
      },
      "source": [
        "## Q 03-04\n",
        "\n",
        "### Responde las siguientes preguntas.\n",
        "\n",
        "```\n",
        "import pandas as pd\n",
        "import numpy as np\n",
        "import os\n",
        "import matplotlib.pyplot as plt\n",
        "%matplotlib inline\n",
        "\n",
        "# Lea los datos.\n",
        "# Vaya al directorio donde se encuentra el archivo de los datos.\n",
        "os.chdir(r'~~') # Reemplace con la dirección del archivo\n",
        "df = pd.read_csv('data_sales.csv', header='infer')\n",
        "df.shape\n",
        "df.head(5)\n",
        "```\n",
        "\n",
        "1. Agregue una nueva variable 𝐴𝑚𝑜𝑢𝑛𝑡=𝑈𝑛𝑖𝑡𝑃𝑟𝑖𝑐×𝑈𝑛𝑖𝑡𝑠Amount=UnitPric×Units.\n",
        "2. Precio unitario medio de cada región. Utilice el método groupby().\n",
        "3. Precio unitario medio de cada región. Usa el método pivot_table()."
      ]
    },
    {
      "cell_type": "markdown",
      "id": "b239c413",
      "metadata": {
        "id": "b239c413"
      },
      "source": [
        "**Respuesta:**"
      ]
    },
    {
      "cell_type": "code",
      "execution_count": null,
      "id": "QjlPDxBc7XOE",
      "metadata": {
        "id": "QjlPDxBc7XOE"
      },
      "outputs": [],
      "source": [
        "import pandas as pd\n",
        "import numpy as np\n",
        "import os\n",
        "import matplotlib.pyplot as plt\n",
        "%matplotlib inline"
      ]
    },
    {
      "cell_type": "markdown",
      "id": "ba019f33",
      "metadata": {
        "id": "ba019f33"
      },
      "source": [
        "___"
      ]
    },
    {
      "cell_type": "markdown",
      "id": "d4b76da3",
      "metadata": {
        "id": "d4b76da3"
      },
      "source": [
        "## Q 03-05\n",
        "\n",
        "### Responde las siguientes preguntas.\n",
        "\n",
        "```\n",
        "import pandas as pd\n",
        "import numpy as np\n",
        "import os\n",
        "import matplotlib.pyplot as plt\n",
        "%matplotlib inline\n",
        "\n",
        "# Lea los datos.\n",
        "# Vaya al directorio donde se encuentra el archivo de los datos.\n",
        "os.chdir(r'~~') # Reemplace con la dirección del archivo\n",
        "df = pd.read_csv('data_coffeeshop.csv', header='infer', na_values=[' '])\n",
        "df.shape\n",
        "df.head(5)\n",
        "```\n",
        "\n",
        "1.   Haz una tabla de frecuencia de 'yearOfStart' y visualízala por año.\n",
        "- Ordenar por año.\n",
        "- Dibuja un gráfico de líneas desde 1997 hasta 2014. <= Pista: plt.xlim()"
      ]
    },
    {
      "cell_type": "markdown",
      "id": "20998ef3",
      "metadata": {
        "id": "20998ef3"
      },
      "source": [
        "**Respuesta:**"
      ]
    },
    {
      "cell_type": "code",
      "execution_count": null,
      "id": "rBDeXJRl8LEJ",
      "metadata": {
        "id": "rBDeXJRl8LEJ"
      },
      "outputs": [],
      "source": []
    },
    {
      "cell_type": "markdown",
      "id": "aa90491d",
      "metadata": {
        "id": "aa90491d"
      },
      "source": [
        "___"
      ]
    },
    {
      "cell_type": "markdown",
      "id": "ed04e881",
      "metadata": {
        "id": "ed04e881"
      },
      "source": [
        "## Fin"
      ]
    }
  ],
  "metadata": {
    "colab": {
      "provenance": []
    },
    "kernelspec": {
      "display_name": "Python 3 (ipykernel)",
      "language": "python",
      "name": "python3"
    },
    "language_info": {
      "codemirror_mode": {
        "name": "ipython",
        "version": 3
      },
      "file_extension": ".py",
      "mimetype": "text/x-python",
      "name": "python",
      "nbconvert_exporter": "python",
      "pygments_lexer": "ipython3",
      "version": "3.10.12"
    }
  },
  "nbformat": 4,
  "nbformat_minor": 5
}
