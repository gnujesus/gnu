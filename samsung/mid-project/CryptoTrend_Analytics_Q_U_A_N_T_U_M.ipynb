{
  "cells": [
    {
      "cell_type": "code",
      "execution_count": 2,
      "metadata": {
        "colab": {
          "background_save": true
        },
        "id": "OrzPJ6Y4eKCZ"
      },
      "outputs": [],
      "source": [
        "import pandas as pd\n",
        "import matplotlib.pyplot as plt\n",
        "import numpy as np\n",
        "from datetime import datetime as dt\n",
        "import pytz\n",
        "import asyncio\n",
        "import os\n",
        "import json\n",
        "\n",
        "#From binance-connector\n",
        "from binance.spot import Spot\n",
        "\n",
        "#From python-binance\n",
        "from binance.client import Client\n",
        "\n",
        "#import websockets"
      ]
    },
    {
      "cell_type": "code",
      "execution_count": 28,
      "metadata": {
        "colab": {
          "background_save": true
        },
        "id": "sHaJEjw0edEB"
      },
      "outputs": [],
      "source": [
        "\n",
        "def filter_by_date(arr, dates):\n",
        "  new_arr=[]\n",
        "\n",
        "  for obj in arr:\n",
        "    for date in dates:\n",
        "      if date in obj[\"datetime\"]:\n",
        "        new_arr.append(obj)\n",
        "\n",
        "  return new_arr\n",
        "\n",
        "\n",
        "def get_market_cap(symbol, current_price, volume):\n",
        "  return current_price * volume\n",
        "\n",
        "def bubble_sort_by_attribute(arr, attr):\n",
        "  length = len(arr) - 1\n",
        "  sorted = False\n",
        "\n",
        "  while not sorted:\n",
        "    sorted = True\n",
        "    for i in range(0, length):\n",
        "      if arr[i][attr] > arr[i+1][attr]:\n",
        "        sorted = False\n",
        "        arr[i], arr[i+1] = arr[i+1], arr[i]\n",
        "\n",
        "  return arr\n",
        "\n",
        "def filter_repeated(arr):\n",
        "  df = pd.DataFrame(arr)\n",
        "  return df.drop_duplicates(subset=['symbol'], keep='first').to_dict('records')\n",
        "\n",
        "def filter_repeated_reverse(arr):\n",
        "  df = pd.DataFrame(arr)\n",
        "  return df.drop_duplicates(subset=['symbol'], keep='last').to_dict('records')\n",
        "\n",
        "def calculate_volatility(data, symbol):\n",
        "  none = 0\n",
        "  increment = 0\n",
        "  decrement = 0\n",
        "\n",
        "  for i in data:\n",
        "    if symbol == i[\"symbol\"]:\n",
        "      if(i[\"open_price\"] - i[\"close_price\"] > 0):\n",
        "        increment += 1\n",
        "\n",
        "      if(i[\"open_price\"] - i[\"close_price\"] < 0):\n",
        "        decrement += 1\n",
        "\n",
        "  return abs(increment - decrement)\n"
      ]
    },
    {
      "cell_type": "code",
      "execution_count": 8,
      "metadata": {
        "colab": {
          "base_uri": "https://localhost:8080/",
          "height": 408
        },
        "id": "NIOAt5NEeS98",
        "outputId": "74f0e0c3-fda1-47ab-8613-a2286549ef98"
      },
      "outputs": [],
      "source": [
        "client = Client(api_key='ABzMGzpN1WChoBFHHxEaodEcBUlOgCaFcc75R8unXdFvgfcjNlPQlma5Eik0e4E0', api_secret='BYUbTAIVxtkzUAq5kq86xXWFv8Kw4ji2awFTjMrwVVP3R08eM6nkIrUmHUJCYOyU')\n",
        "# fetch weekly klines since it listed\n",
        "\n",
        "coins_arr = [\"SOLUSDT\", \"BTCUSDT\", \"LINKUSDT\", \"DOGEUSDT\", \"NEOUSDT\", \"YFIUSDT\", \"ETHUSDT\",\"BOMEUSDT\", \"PEPEUSDT\", \"LTOUSDT\", \"MKRUSDT\", \"PAXGUSDT\", \"SHIBUSDT\", \"DREPUSDT\", \"GNOUSDT\", \"AVAXUSDT\"]\n",
        "\n",
        "klines_arr = []\n",
        "\n",
        "for coin in coins_arr:\n",
        "  klines = client.get_historical_klines(coin, Client.KLINE_INTERVAL_1DAY, \"1 Jan, 2015\", \"1 Jan 2024\")\n",
        "  info = client.get_symbol_info(coin)\n",
        "  obj = {'klines': klines, 'info': info}\n",
        "  klines_arr.append(obj)\n"
      ]
    },
    {
      "cell_type": "code",
      "execution_count": 29,
      "metadata": {
        "id": "L64_L5RcJk_m"
      },
      "outputs": [
        {
          "ename": "KeyboardInterrupt",
          "evalue": "",
          "output_type": "error",
          "traceback": [
            "\u001b[0;31m---------------------------------------------------------------------------\u001b[0m",
            "\u001b[0;31mKeyboardInterrupt\u001b[0m                         Traceback (most recent call last)",
            "Cell \u001b[0;32mIn[29], line 47\u001b[0m\n\u001b[1;32m     40\u001b[0m   obj \u001b[38;5;241m=\u001b[39m {\n\u001b[1;32m     41\u001b[0m       \u001b[38;5;124m\"\u001b[39m\u001b[38;5;124msymbol\u001b[39m\u001b[38;5;124m\"\u001b[39m: i,\n\u001b[1;32m     42\u001b[0m       \u001b[38;5;124m\"\u001b[39m\u001b[38;5;124mvolatility\u001b[39m\u001b[38;5;124m\"\u001b[39m: calculate_volatility(data_ending_2018, i)\n\u001b[1;32m     43\u001b[0m   }\n\u001b[1;32m     45\u001b[0m   volatility_data_all_time\u001b[38;5;241m.\u001b[39mappend(obj)\n\u001b[0;32m---> 47\u001b[0m sorted_data_arr \u001b[38;5;241m=\u001b[39m \u001b[43mbubble_sort_by_attribute\u001b[49m\u001b[43m(\u001b[49m\u001b[43mdata_arr\u001b[49m\u001b[43m,\u001b[49m\u001b[43m \u001b[49m\u001b[38;5;124;43m\"\u001b[39;49m\u001b[38;5;124;43mclose_price\u001b[39;49m\u001b[38;5;124;43m\"\u001b[39;49m\u001b[43m)\u001b[49m\n\u001b[1;32m     48\u001b[0m sorted_data_arr \u001b[38;5;241m=\u001b[39m filter_repeated_reverse(sorted_data_arr)\n\u001b[1;32m     50\u001b[0m value \u001b[38;5;241m=\u001b[39m \u001b[38;5;241m0\u001b[39m\n",
            "Cell \u001b[0;32mIn[28], line -1\u001b[0m, in \u001b[0;36mbubble_sort_by_attribute\u001b[0;34m(arr, attr)\u001b[0m\n\u001b[1;32m      0\u001b[0m <Error retrieving source code with stack_data see ipython/ipython#13598>\n",
            "\u001b[0;31mKeyboardInterrupt\u001b[0m: "
          ]
        }
      ],
      "source": [
        "data_arr = []\n",
        "\n",
        "for obj in klines_arr:\n",
        "  for kline in obj['klines']:\n",
        "    symbol = obj['info']['symbol']\n",
        "    timestamp = kline[0]\n",
        "    datetime = dt.fromtimestamp(timestamp / 1000).strftime('%Y-%m-%d %H:%M:%S')\n",
        "    open_price = float(kline[1]) # Open price\n",
        "    high = float(kline[2]) # Highest price on opening\n",
        "    low = float(kline[3]) # Lowest price on opening\n",
        "    close_price = float(kline[4])  # Close price\n",
        "    volume = float(kline[5]) #Volume\n",
        "    number_of_trades = float(kline[8])\n",
        "    range_high_low=high-low\n",
        "    market_cap = get_market_cap(symbol, close_price, volume) # Close price is passed since it's the ending price\n",
        "    coin_name = symbol  # Based on the symbol used\n",
        "\n",
        "    data = {\"coin_name\": coin_name, \"symbol\": symbol,  \"datetime\": str(datetime),\"open_price\": open_price,'high': high, 'low':low, 'range': range_high_low,\"close_price\": close_price, \"volume\": volume, \"number_of_trades\": number_of_trades, \"market_cap\": market_cap}\n",
        "    data_arr.append(data)\n",
        "\n",
        "\n",
        "\n",
        "# Most Valuable Coins (MVC)\n",
        "data_ending_2018 = filter_by_date(data_arr, [\"2018-10\", \"2018-11\", \"2018-12\"])\n",
        "mvc_ending_2018 = bubble_sort_by_attribute(data_ending_2018, \"market_cap\")\n",
        "mvc_ending_2018 = filter_repeated(mvc_ending_2018)\n",
        "\n",
        "volatility_data_2018 = []\n",
        "volatility_data_all_time = []\n",
        "\n",
        "for i in coins_arr:\n",
        "  obj = {\n",
        "      \"symbol\": i,\n",
        "      \"volatility\": calculate_volatility(data_arr, i)\n",
        "  }\n",
        "\n",
        "  volatility_data_all_time.append(obj)\n",
        "\n",
        "for i in coins_arr:\n",
        "  obj = {\n",
        "      \"symbol\": i,\n",
        "      \"volatility\": calculate_volatility(data_ending_2018, i)\n",
        "  }\n",
        "\n",
        "  volatility_data_all_time.append(obj)\n",
        "\n",
        "# sorted_data_arr = bubble_sort_by_attribute(data_arr, \"close_price\")\n",
        "sorted_data_arr = filter_repeated_reverse(data_arr)\n",
        "\n",
        "value = 0\n",
        "down = 0\n",
        "\n",
        "\n",
        "over_the_average = []\n",
        "on_average = []\n",
        "under_the_average = []\n",
        "\n",
        "for i in sorted_data_arr:\n",
        "  value += i[\"close_price\"]\n",
        "  down+=1\n",
        "\n",
        "average = value = value/down\n",
        "\n",
        "for i in sorted_data_arr:\n",
        "\n",
        "  if i[\"close_price\"] > average:\n",
        "    over_the_average.append(i)\n",
        "  elif i[\"close_price\"] < average:\n",
        "    under_the_average.append(i)\n",
        "  else:\n",
        "    on_average.append(i)\n",
        "\n",
        "volatility_data_all_time = bubble_sort_by_attribute(volatility_data_all_time, \"volatility\")\n",
        "volatility_data_2018 = bubble_sort_by_attribute(volatility_data_2018, \"volatility\")\n",
        "\n",
        "coins_all_time_file = open('./output/most_valuable_coins_all_time.json', 'w')\n",
        "coins_all_time_file.write(json.dumps(data_arr, indent=2))\n",
        "\n",
        "most_valuable_coins_ending_2018 = open('./output/most_valuable_coins_ending_2018.json', 'w')\n",
        "most_valuable_coins_ending_2018.write(json.dumps(mvc_ending_2018, indent=2))\n",
        "\n",
        "most_volatile_coins_all_time = open('./output/most_volatile_coins_all_time.json', 'w')\n",
        "most_volatile_coins_all_time.write(json.dumps(volatility_data_all_time, indent=2))\n",
        "\n",
        "most_volatile_coins_2018 = open('./output/most_volatile_coins_2018.json', 'w')\n",
        "most_volatile_coins_2018.write(json.dumps(volatility_data_2018, indent=2))\n",
        "\n",
        "ov_avg = open('./output/over_the_average_coins.json', 'w')\n",
        "ov_avg.write(json.dumps(over_the_average, indent=2))\n",
        "\n",
        "u_avg = open('./output/under_the_average_coins.json', 'w')\n",
        "u_avg.write(json.dumps(under_the_average, indent=2))\n",
        "\n",
        "o_avg = open('./output/average_coins.json', 'w')\n",
        "o_avg.write(json.dumps(on_average, indent=2))"
      ]
    },
    {
      "cell_type": "code",
      "execution_count": null,
      "metadata": {
        "id": "mfM013NzZ2hk"
      },
      "outputs": [],
      "source": []
    }
  ],
  "metadata": {
    "colab": {
      "provenance": []
    },
    "kernelspec": {
      "display_name": "Python 3",
      "name": "python3"
    },
    "language_info": {
      "codemirror_mode": {
        "name": "ipython",
        "version": 3
      },
      "file_extension": ".py",
      "mimetype": "text/x-python",
      "name": "python",
      "nbconvert_exporter": "python",
      "pygments_lexer": "ipython3",
      "version": "3.10.12"
    }
  },
  "nbformat": 4,
  "nbformat_minor": 0
}
